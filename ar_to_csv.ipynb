{
 "cells": [
  {
   "cell_type": "code",
   "execution_count": 5,
   "metadata": {},
   "outputs": [],
   "source": [
    "import serial\n",
    "import csv"
   ]
  },
  {
   "cell_type": "code",
   "execution_count": 6,
   "metadata": {},
   "outputs": [
    {
     "ename": "AttributeError",
     "evalue": "module 'serial' has no attribute 'Serial'",
     "output_type": "error",
     "traceback": [
      "\u001b[0;31m---------------------------------------------------------------------------\u001b[0m",
      "\u001b[0;31mAttributeError\u001b[0m                            Traceback (most recent call last)",
      "Cell \u001b[0;32mIn[6], line 3\u001b[0m\n\u001b[1;32m      1\u001b[0m arduino \u001b[39m=\u001b[39m \u001b[39m'\u001b[39m\u001b[39m/dev/cu.usbmodem14201\u001b[39m\u001b[39m'\u001b[39m\n\u001b[1;32m      2\u001b[0m baud \u001b[39m=\u001b[39m \u001b[39m9600\u001b[39m\n\u001b[0;32m----> 3\u001b[0m series \u001b[39m=\u001b[39m serial\u001b[39m.\u001b[39;49mSerial(arduino,baud)\n\u001b[1;32m      5\u001b[0m samples \u001b[39m=\u001b[39m \u001b[39m15\u001b[39m\n\u001b[1;32m      6\u001b[0m filename \u001b[39m=\u001b[39m \u001b[39m'\u001b[39m\u001b[39msensordata.csv\u001b[39m\u001b[39m'\u001b[39m\n",
      "\u001b[0;31mAttributeError\u001b[0m: module 'serial' has no attribute 'Serial'"
     ]
    }
   ],
   "source": [
    "arduino = '/dev/cu.usbmodem14201'\n",
    "baud = 9600\n",
    "series = serial.Serial(arduino,baud)\n",
    "\n",
    "samples = 15\n",
    "filename = 'sensordata.csv'\n",
    "\n",
    "file = open(filename,'a')\n",
    "print('File created')\n",
    "\n",
    "row = 0\n",
    "sensordata = []\n",
    "while row <= samples:\n",
    "\n",
    "    line=series.readline()\n",
    "    dataString = line.decode('utf-8')\n",
    "\n",
    "    data=dataString[0:][:-1]\n",
    "    print(data)\n",
    "\n",
    "    read = data.split(\",\")\n",
    "    print(read)\n",
    "\n",
    "    sensordata.append(read)\n",
    "    print(sensordata)\n",
    "\n",
    "    row = row+1\n",
    "\n",
    "\n",
    "with open(filename, 'w', encoding='UTF8', newline='') as f:\n",
    "    write = csv.writer(f)\n",
    "    write.writerows(sensordata)\n",
    "\n",
    "print(\"Collection of data done!\")\n",
    "file.close()\n",
    "\n"
   ]
  },
  {
   "cell_type": "code",
   "execution_count": null,
   "metadata": {},
   "outputs": [],
   "source": []
  }
 ],
 "metadata": {
  "kernelspec": {
   "display_name": "Python 3",
   "language": "python",
   "name": "python3"
  },
  "language_info": {
   "codemirror_mode": {
    "name": "ipython",
    "version": 3
   },
   "file_extension": ".py",
   "mimetype": "text/x-python",
   "name": "python",
   "nbconvert_exporter": "python",
   "pygments_lexer": "ipython3",
   "version": "3.9.16"
  },
  "orig_nbformat": 4,
  "vscode": {
   "interpreter": {
    "hash": "397704579725e15f5c7cb49fe5f0341eb7531c82d19f2c29d197e8b64ab5776b"
   }
  }
 },
 "nbformat": 4,
 "nbformat_minor": 2
}
